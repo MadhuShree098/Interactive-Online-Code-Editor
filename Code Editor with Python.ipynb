{
 "cells": [
  {
   "cell_type": "code",
   "execution_count": 3,
   "id": "dddb3f9b",
   "metadata": {},
   "outputs": [
    {
     "data": {
      "text/html": [
       "\n",
       "<!DOCTYPE html>\n",
       "<html>\n",
       "<head>\n",
       "    <title>Online Code Editor</title>\n",
       "</head>\n",
       "<body>\n",
       "    <h1>Online Code Editor</h1>\n",
       "    <textarea id=\"code\" rows=\"10\" cols=\"80\"></textarea>\n",
       "    <button onclick=\"executeCode()\">Execute</button>\n",
       "    <div id=\"output\"></div>\n",
       "\n",
       "    <script>\n",
       "        function executeCode() {\n",
       "            var code = document.getElementById('code').value;\n",
       "            try {\n",
       "                var result = eval(code);\n",
       "                document.getElementById('output').innerHTML = '<p>' + result + '</p>';\n",
       "            } catch (error) {\n",
       "                document.getElementById('output').innerHTML = '<p style=\"color: red;\">' + error + '</p>';\n",
       "            }\n",
       "        }\n",
       "    </script>\n",
       "</body>\n",
       "</html>\n"
      ],
      "text/plain": [
       "<IPython.core.display.HTML object>"
      ]
     },
     "execution_count": 3,
     "metadata": {},
     "output_type": "execute_result"
    }
   ],
   "source": [
    "from IPython.core.display import HTML\n",
    "\n",
    "HTML('''\n",
    "<!DOCTYPE html>\n",
    "<html>\n",
    "<head>\n",
    "    <title>Online Code Editor</title>\n",
    "</head>\n",
    "<body>\n",
    "    <h1>Online Code Editor</h1>\n",
    "    <textarea id=\"code\" rows=\"10\" cols=\"80\"></textarea>\n",
    "    <button onclick=\"executeCode()\">Execute</button>\n",
    "    <div id=\"output\"></div>\n",
    "\n",
    "    <script>\n",
    "        function executeCode() {\n",
    "            var code = document.getElementById('code').value;\n",
    "            try {\n",
    "                var result = eval(code);\n",
    "                document.getElementById('output').innerHTML = '<p>' + result + '</p>';\n",
    "            } catch (error) {\n",
    "                document.getElementById('output').innerHTML = '<p style=\"color: red;\">' + error + '</p>';\n",
    "            }\n",
    "        }\n",
    "    </script>\n",
    "</body>\n",
    "</html>\n",
    "''')\n"
   ]
  },
  {
   "cell_type": "code",
   "execution_count": null,
   "id": "fe81c674",
   "metadata": {},
   "outputs": [],
   "source": []
  }
 ],
 "metadata": {
  "kernelspec": {
   "display_name": "Python 3 (ipykernel)",
   "language": "python",
   "name": "python3"
  },
  "language_info": {
   "codemirror_mode": {
    "name": "ipython",
    "version": 3
   },
   "file_extension": ".py",
   "mimetype": "text/x-python",
   "name": "python",
   "nbconvert_exporter": "python",
   "pygments_lexer": "ipython3",
   "version": "3.9.7"
  }
 },
 "nbformat": 4,
 "nbformat_minor": 5
}
